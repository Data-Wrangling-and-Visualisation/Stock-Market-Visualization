{
 "cells": [
  {
   "cell_type": "code",
   "execution_count": 22,
   "id": "29f709ba",
   "metadata": {},
   "outputs": [],
   "source": [
    "import pandas as pd\n",
    "import json\n",
    "import os"
   ]
  },
  {
   "cell_type": "code",
   "execution_count": 23,
   "id": "3d54e3ef",
   "metadata": {},
   "outputs": [],
   "source": [
    "# From 2021-06-07 two zeros were cut of the price\n",
    "def clean_data_sbmx(sbmx, cutoff):\n",
    "    sbmx_cleaned = []\n",
    "    duplicate = set()\n",
    "    for i in sbmx:\n",
    "        if i['date'] in duplicate: continue\n",
    "        for price in i.keys():\n",
    "            if 'price' in price:\n",
    "                if i[price] == '-': \n",
    "                    i[price] = i['price_at_closure']\n",
    "                if float(i[price]) < 100 or pd.to_datetime(i['date']) >= cutoff: continue\n",
    "                i[price] = str(round(float(i[price]) / 100, 3))\n",
    "        i['volume_of_trade'] = i['volume_of_trade'].replace('-', '0')\n",
    "        sbmx_cleaned.append(i)     \n",
    "        duplicate.add(i['date'])\n",
    "        \n",
    "    return sbmx_cleaned\n",
    "\n",
    "def clean_data_other(data):\n",
    "    data_cleaned = []\n",
    "    duplicate = set()\n",
    "    for i in data:\n",
    "        if i['date'] in duplicate: continue\n",
    "\n",
    "        for price in i.keys():\n",
    "            if 'price' in price:\n",
    "                if i[price] == '-': \n",
    "                    i[price] = i['price_at_closure']\n",
    "        \n",
    "        i['volume_of_trade'] = i['volume_of_trade'].replace('-', '0')\n",
    "        data_cleaned.append(i)     \n",
    "        duplicate.add(i['date'])\n",
    "\n",
    "    return data_cleaned\n",
    "    "
   ]
  },
  {
   "cell_type": "code",
   "execution_count": 24,
   "id": "89febefe",
   "metadata": {},
   "outputs": [],
   "source": [
    "data_folder = '../data/'\n",
    "with open(data_folder + 'SBMX.json', 'r+') as file:\n",
    "    sbmx = json.load(file)\n",
    "    sbmx_cleaned = clean_data_sbmx(sbmx, pd.to_datetime('2021-06-06'))\n",
    "\n",
    "    # Overwrite the file with cleaned data\n",
    "    file.seek(0)\n",
    "    json.dump(sbmx_cleaned, file, indent=4)\n",
    "    file.truncate()\n",
    "\n",
    "\n",
    "for filename in os.listdir(data_folder):\n",
    "    if filename.endswith('.json') and filename != 'SBMX.json':\n",
    "        file_path = os.path.join(data_folder, filename)\n",
    "        \n",
    "        # Open and clean the JSON file\n",
    "        with open(file_path, 'r+') as file:\n",
    "            data = json.load(file)\n",
    "            cleaned_data = clean_data_other(data)\n",
    "            \n",
    "            # Overwrite the file with cleaned data\n",
    "            file.seek(0)\n",
    "            json.dump(cleaned_data, file, indent=4)\n",
    "            file.truncate()\n",
    "    "
   ]
  },
  {
   "cell_type": "code",
   "execution_count": 25,
   "id": "ec0d75da",
   "metadata": {},
   "outputs": [
    {
     "name": "stdout",
     "output_type": "stream",
     "text": [
      "685\n",
      "4062\n",
      "3215\n",
      "3900\n",
      "858\n",
      "1654\n",
      "1167\n"
     ]
    }
   ],
   "source": [
    "from storage import StorageSQLite\n",
    "\n",
    "storage = StorageSQLite()\n",
    "conn = storage.connect('data/')\n",
    "\n",
    "for filename in os.listdir(data_folder):\n",
    "    if filename.endswith('.json'):\n",
    "        file_path = os.path.join(data_folder, filename)\n",
    "        \n",
    "        # Open and clean the JSON file\n",
    "        with open(file_path, 'r') as file:\n",
    "            data = pd.read_json(file_path)\n",
    "            print(len(data['date']))\n",
    "            storage.write(conn, data, '=' + filename[:filename.find('.')] + '&')\n",
    "            \n",
    "\n",
    "# storage.write(conn, formatted_df, content_name)\n",
    "storage.close(conn)"
   ]
  }
 ],
 "metadata": {
  "kernelspec": {
   "display_name": "Python 3",
   "language": "python",
   "name": "python3"
  },
  "language_info": {
   "codemirror_mode": {
    "name": "ipython",
    "version": 3
   },
   "file_extension": ".py",
   "mimetype": "text/x-python",
   "name": "python",
   "nbconvert_exporter": "python",
   "pygments_lexer": "ipython3",
   "version": "3.12.10"
  }
 },
 "nbformat": 4,
 "nbformat_minor": 5
}
